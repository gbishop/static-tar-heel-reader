{
 "cells": [
  {
   "cell_type": "code",
   "execution_count": 201,
   "metadata": {},
   "outputs": [],
   "source": [
    "from selenium import webdriver\n",
    "from selenium.webdriver.common.keys import Keys\n",
    "import time\n",
    "driver = webdriver.Chrome('/Users/chansun/Downloads/chromedriver-2')\n",
    "#chromedriver <- doesn't work\n",
    "#chromedriver-2 <- works\n",
    "#chromedriver-3 <- works\n",
    "#chromedriver-4 <- doesn't work\n",
    "\n",
    "#driver.implicitly_wait(3)\n",
    "#time.sleep(5) # 5초 대기"
   ]
  },
  {
   "cell_type": "code",
   "execution_count": 202,
   "metadata": {},
   "outputs": [
    {
     "name": "stdout",
     "output_type": "stream",
     "text": [
      "Say anything what?\n",
      "\n",
      "{\n",
      "  \"_type\": \"SpellCheck\",\n",
      "  \"flaggedTokens\": []\n",
      "}\n"
     ]
    }
   ],
   "source": [
    "from selenium.webdriver.common.action_chains import ActionChains\n",
    "\n",
    "from selenium import webdriver\n",
    "from selenium.webdriver.common.by import By\n",
    "from selenium.webdriver.support.ui import WebDriverWait\n",
    "from selenium.webdriver.support import expected_conditions as EC\n",
    "from selenium.webdriver.common.action_chains import ActionChains\n",
    "\n",
    "\n",
    "\n",
    "driver.get('https://azure.microsoft.com/en-us/services/cognitive-services/spell-check/')\n",
    "#https://azure.microsoft.com/en-us/services/cognitive-services/spell-check/\n",
    "search_box = driver.find_element_by_name(\"Query\")\n",
    "search_box.clear()\n",
    "#search_box.send_keys(Keys.RETURN)\n",
    "sentence = 'Say anything what?' ## this is where you add a sentence/word\n",
    "search_box.send_keys(sentence)\n",
    "#driver.find_element_by_name(\"nav-site-search\").click()\n",
    "#button = driver.find_element_by_xpath('//input[@type=\"text\"]').click()\n",
    "#button = driver.find_element_by_xpath(\"//input[@id='site-search-input']\").click()\n",
    "#button = WebDriverWait(search_box, 10).until(EC.element_to_be_clickable((By.CSS_SELECTOR, 'span.text')))\n",
    "#button = driver.find_element_by_css_selector('span.text')\n",
    "#button = driver.find_element_by_css_selector('button.nav-site-search-submit')\n",
    "#button.click()\n",
    "#button = driver.find_element_by_id(\"site-search-input\")\n",
    "#button.click()\n",
    "#ActionChains(driver).move_to_element(button).click().perform()\n",
    "#driver.find_element_by_xpath(\"//input[@id='site-search-input']\").send_keys(Keys.ENTER)\n",
    "button = driver.find_element_by_xpath(\"//input[@type='submit']\")\n",
    "#button = driver.find_element_by_id('nav-site-search-submit')\n",
    "#button = driver.find_element_by_css_selector('span.text')\n",
    "#button = driver.find_element_by_css_selector('li.nav-site-search')\n",
    "#element = driver.find_element_by_xpath(\"//form[@class='ui form']/button\")\n",
    "#li id=\"nav-site-search\" class=\"nav-site-search\"\n",
    "driver.implicitly_wait(5)\n",
    "driver.execute_script(\"arguments[0].click();\", button)\n",
    "time.sleep(1) # 5초 대기\n",
    "print(driver.find_element_by_id(\"spell-check-preview\").text)\n",
    "#print(driver.find_element_by_id(\"spell-check-json\").text)\n",
    "#driver.close()\n",
    "\n",
    "\n",
    "import requests\n",
    "from bs4 import BeautifulSoup\n",
    "req = driver.page_source\n",
    "soup=BeautifulSoup(req, 'html.parser')\n",
    "rows = soup.findAll('div', {'class':'cs-demo-json'})\n",
    "for row in rows:\n",
    "    print(row.text.strip())\n",
    "driver.close()"
   ]
  },
  {
   "cell_type": "code",
   "execution_count": 200,
   "metadata": {},
   "outputs": [
    {
     "name": "stdout",
     "output_type": "stream",
     "text": [
      "{\n",
      "  \"_type\": \"SpellCheck\",\n",
      "  \"flaggedTokens\": []\n",
      "}\n"
     ]
    }
   ],
   "source": [
    "import requests\n",
    "from bs4 import BeautifulSoup\n",
    "\n",
    "req = driver.page_source\n",
    "soup=BeautifulSoup(req, 'html.parser')\n",
    "rows = soup.findAll('div', {'class':'cs-demo-json'})\n",
    "for row in rows:\n",
    "    print(row.text.strip())"
   ]
  },
  {
   "cell_type": "code",
   "execution_count": null,
   "metadata": {},
   "outputs": [],
   "source": []
  }
 ],
 "metadata": {
  "kernelspec": {
   "display_name": "Python 3",
   "language": "python",
   "name": "python3"
  },
  "language_info": {
   "codemirror_mode": {
    "name": "ipython",
    "version": 3
   },
   "file_extension": ".py",
   "mimetype": "text/x-python",
   "name": "python",
   "nbconvert_exporter": "python",
   "pygments_lexer": "ipython3",
   "version": "3.7.0"
  }
 },
 "nbformat": 4,
 "nbformat_minor": 2
}
