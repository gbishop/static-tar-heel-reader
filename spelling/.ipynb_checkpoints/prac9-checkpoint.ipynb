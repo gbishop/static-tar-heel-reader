{
 "cells": [
  {
   "cell_type": "code",
   "execution_count": 9,
   "metadata": {},
   "outputs": [
    {
     "name": "stdout",
     "output_type": "stream",
     "text": [
      "People abandoned fireworks but some people keep fireworks in their homes.\n"
     ]
    }
   ],
   "source": [
    "import requests\n",
    "from bs4 import BeautifulSoup\n",
    "from selenium import webdriver\n",
    "from selenium.webdriver.common.keys import Keys\n",
    "import time\n",
    "\n",
    "def put_sentence(sentence):\n",
    "    driver = webdriver.Chrome('/Users/chansun/Downloads/chromedriver-2')\n",
    "    driver.get('https://azure.microsoft.com/en-us/services/cognitive-services/spell-check/')\n",
    "    search_box = driver.find_element_by_name(\"Query\")\n",
    "    search_box.clear()\n",
    "    search_box.send_keys(sentence)\n",
    "    button = driver.find_element_by_xpath(\"//input[@type='submit']\")\n",
    "    driver.implicitly_wait(5)\n",
    "    driver.execute_script(\"arguments[0].click();\", button)\n",
    "    time.sleep(1) # 1 초 대기\n",
    "    correction = driver.find_element_by_id(\"spell-check-preview\").text\n",
    "    #print(correction)\n",
    "    req = driver.page_source\n",
    "    soup=BeautifulSoup(req, 'html.parser')\n",
    "    rows = soup.findAll('div', {'class':'cs-demo-json'})\n",
    "    json = rows[0].text.strip()\n",
    "    myDict = eval(json)\n",
    "    #print(type(json))\n",
    "    #print(type(myDict))\n",
    "    #for row in rows:\n",
    "    #    print(row.text.strip())\n",
    "    driver.close()\n",
    "    return correction\n",
    "    \n",
    "def put_sentences(sentences):\n",
    "    driver = webdriver.Chrome('/Users/chansun/Downloads/chromedriver-2')\n",
    "    driver.get('https://azure.microsoft.com/en-us/services/cognitive-services/spell-check/')\n",
    "    search_box = driver.find_element_by_name(\"Query\")\n",
    "    corrections = []\n",
    "    for sentence in sentences:\n",
    "        search_box.clear()\n",
    "        search_box.send_keys(sentence)\n",
    "        button = driver.find_element_by_xpath(\"//input[@type='submit']\")\n",
    "        driver.implicitly_wait(5)\n",
    "        driver.execute_script(\"arguments[0].click();\", button)\n",
    "        time.sleep(1) # 1 초 대기\n",
    "        correction = driver.find_element_by_id(\"spell-check-preview\").text\n",
    "        corrections.append(correction)\n",
    "        #print(correction)\n",
    "        #req = driver.page_source\n",
    "        #soup=BeautifulSoup(req, 'html.parser')\n",
    "        #rows = soup.findAll('div', {'class':'cs-demo-json'})\n",
    "        #json = rows[0].text.strip()\n",
    "        #myDict = eval(json)\n",
    "        #print(type(json))\n",
    "        #print(type(myDict))\n",
    "    driver.close()\n",
    "    return corrections\n",
    "\n",
    "\n",
    "sentence = \"People abandonded fireworks but some people keep fire-works in their homes.\"\n",
    "#print(sentence)\n",
    "#print(\"\\n\")\n",
    "print(put_sentence(sentence))\n",
    "\n",
    "#sentences = [\"People abandonded fireworks but some people keep fire-works in their homes.\", \"Sometimes a small boat makes a good afteroon snack.\", \"He lectured agaist slavery in the U.S and in Great Britain. He also held government jobs.\"]\n",
    "#for sentence in sentences:\n",
    "#    print(sentence)\n",
    "#print(\"\\n\")\n",
    "#print(put_sentences(sentences))"
   ]
  },
  {
   "cell_type": "code",
   "execution_count": 1,
   "metadata": {},
   "outputs": [],
   "source": [
    "import bingspell\n",
    "#sentence = \"This si intentinally misplled\"\n",
    "#bingspell.put_sentence(sentence)"
   ]
  },
  {
   "cell_type": "code",
   "execution_count": 4,
   "metadata": {},
   "outputs": [
    {
     "name": "stdout",
     "output_type": "stream",
     "text": [
      "People abandoned fireworks but some people keep fireworks in their homes.\n",
      "Sometimes a small boat makes a good afternoon snack.\n",
      "He lectured against slavery in the U.S and in Great Britain. He also held government jobs.\n",
      "Anguilla flag\n",
      "Ocean City New Jersey has an amusement park It has lots of fun rides.\n",
      "The goats were running amuck!\n",
      "X. Xavier cathedral cemetery French and Indian\n",
      "An anemone can do somersaults.\n",
      "Annie lee's a, b, c,\n",
      "Insects have antennae.\n",
      "Dogs can eat mostly anything.\n"
     ]
    }
   ],
   "source": [
    "sentences = [\"People abandonded fireworks but some people keep fire-works in their homes.\", \n",
    "             \"Sometimes a small boat makes a good afteroon snack.\", \n",
    "             \"He lectured agaist slavery in the U.S and in Great Britain. He also held government jobs.\",\n",
    "             \"aiquilla flag\",\n",
    "             \"Ocean City, New Jersey has an ammusement park It has lots of fun rides.\",\n",
    "             \"The goats were running amuck!\",\n",
    "             \"X.Xavier cathedral cemetery french andindian\",\n",
    "             \"An anenome can do somersaults.\",\n",
    "             \"annielee's a, b, c,\",\n",
    "             \"Insects have antenae.\",\n",
    "             \"Dogs can eat mostly anthing.\"]\n",
    "import bingspell\n",
    "corrections = bingspell.put_sentences(sentences)\n",
    "for correction in corrections:\n",
    "    print(correction)\n",
    "    \n"
   ]
  },
  {
   "cell_type": "code",
   "execution_count": null,
   "metadata": {},
   "outputs": [],
   "source": []
  }
 ],
 "metadata": {
  "kernelspec": {
   "display_name": "Python 3",
   "language": "python",
   "name": "python3"
  },
  "language_info": {
   "codemirror_mode": {
    "name": "ipython",
    "version": 3
   },
   "file_extension": ".py",
   "mimetype": "text/x-python",
   "name": "python",
   "nbconvert_exporter": "python",
   "pygments_lexer": "ipython3",
   "version": "3.7.0"
  }
 },
 "nbformat": 4,
 "nbformat_minor": 2
}
