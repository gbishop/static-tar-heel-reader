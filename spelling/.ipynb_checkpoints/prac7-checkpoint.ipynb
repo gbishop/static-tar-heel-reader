{
 "cells": [
  {
   "cell_type": "code",
   "execution_count": 7,
   "metadata": {},
   "outputs": [
    {
     "data": {
      "text/plain": [
       "['is', 'is', 'is', 'is', 'is', 'is']"
      ]
     },
     "execution_count": 7,
     "metadata": {},
     "output_type": "execute_result"
    }
   ],
   "source": [
    "import re\n",
    "a = \"This island is beautiful isis is. is> <is> (is) (is\"\n",
    "re.findall(r'\\bis\\b', a)\n"
   ]
  },
  {
   "cell_type": "code",
   "execution_count": 19,
   "metadata": {},
   "outputs": [
    {
     "name": "stdout",
     "output_type": "stream",
     "text": [
      "The\n",
      "fo\n"
     ]
    }
   ],
   "source": [
    "from autocorrect import spell\n",
    "print(spell('HTe'))\n",
    "print(spell('foe'))\n",
    "\n",
    "\n"
   ]
  },
  {
   "cell_type": "code",
   "execution_count": 21,
   "metadata": {},
   "outputs": [
    {
     "name": "stdout",
     "output_type": "stream",
     "text": [
      "<class 'list'>\n"
     ]
    }
   ],
   "source": [
    "from nltk.tokenize import sent_tokenize, word_tokenize\n",
    "\n",
    "data = \"All work and no play makes jack dull boy. All work and no play makes jack a dull boy.\"\n",
    "print(type(sent_tokenize(data)))"
   ]
  },
  {
   "cell_type": "code",
   "execution_count": 4,
   "metadata": {},
   "outputs": [
    {
     "name": "stdout",
     "output_type": "stream",
     "text": [
      "False\n",
      "set()\n",
      "['any other']\n",
      "<class 'list'>\n"
     ]
    }
   ],
   "source": [
    "import difflib\n",
    "import aspell\n",
    "import spellchecker\n",
    "spell = aspell.Speller(\"lang\", \"en\")\n",
    "spell2 = spellchecker.SpellChecker()\n",
    "\n",
    "misspelled = \"anyother\"\n",
    "\n",
    "\n",
    "\n",
    "print(spell.check(misspelled))\n",
    "print(spell2.known([misspelled]))\n",
    "\n",
    "temp = [\"animal\", \"animation\", \"anime\", \"Anne\", \"any other\"]\n",
    "print(difflib.get_close_matches(misspelled, temp, n=1, cutoff = 0.6))\n",
    "print(type(difflib.get_close_matches(misspelled, temp, n=1, cutoff = 0.6)))"
   ]
  },
  {
   "cell_type": "code",
   "execution_count": 2,
   "metadata": {},
   "outputs": [],
   "source": [
    "a = \"Karen\"\n",
    "if (\"Karen2\" == a):\n",
    "    print(\"yes\")"
   ]
  },
  {
   "cell_type": "code",
   "execution_count": 1,
   "metadata": {},
   "outputs": [
    {
     "name": "stdout",
     "output_type": "stream",
     "text": [
      "1\n",
      "2\n",
      "1\n",
      "3\n"
     ]
    }
   ],
   "source": [
    "a = {}\n",
    "a['Karen'] = 1\n",
    "a['Karen'] += 1\n",
    "a['Chanusn'] = 1\n",
    "a['Park'] = 1\n",
    "\n",
    "for key in sorted(a.keys()):\n",
    "    print(a[key])\n",
    "\n",
    "print(len(a))\n"
   ]
  },
  {
   "cell_type": "code",
   "execution_count": 2,
   "metadata": {},
   "outputs": [
    {
     "name": "stdout",
     "output_type": "stream",
     "text": [
      "{'Karen': 2, 'Chanusn': 1, 'Park': 1}\n",
      "{'Chanusn': 1, 'Park': 1}\n"
     ]
    }
   ],
   "source": [
    "print(a)\n",
    "del a['Karen']\n",
    "print(a)"
   ]
  },
  {
   "cell_type": "code",
   "execution_count": 10,
   "metadata": {},
   "outputs": [
    {
     "name": "stdout",
     "output_type": "stream",
     "text": [
      "say yes\n",
      "{'Karen': 3}\n",
      "{'Karen': 3, 'Park': 5}\n"
     ]
    }
   ],
   "source": [
    "a = {}\n",
    "a[\"Karen\"] = 3\n",
    "if \"Karen\" in a:\n",
    "    print(\"say yes\")\n",
    "print(a)\n",
    "a[\"Park\"] = 5\n",
    "print(a)\n"
   ]
  },
  {
   "cell_type": "code",
   "execution_count": 9,
   "metadata": {},
   "outputs": [
    {
     "name": "stdout",
     "output_type": "stream",
     "text": [
      "say yes\n"
     ]
    }
   ],
   "source": [
    "a = \"asdasdasdsad\"\n",
    "if \"asd\" in a:\n",
    "    print(\"say yes\")"
   ]
  },
  {
   "cell_type": "code",
   "execution_count": 2,
   "metadata": {},
   "outputs": [
    {
     "data": {
      "text/plain": [
       "False"
      ]
     },
     "execution_count": 2,
     "metadata": {},
     "output_type": "execute_result"
    }
   ],
   "source": [
    "False and True"
   ]
  },
  {
   "cell_type": "code",
   "execution_count": 3,
   "metadata": {},
   "outputs": [
    {
     "name": "stdout",
     "output_type": "stream",
     "text": [
      "{'park': [1, 2]}\n"
     ]
    }
   ],
   "source": [
    "test = {}\n",
    "if \"park\" not in test:\n",
    "    test[\"park\"] = [1,2]\n",
    "else:\n",
    "    test[\"park\"] = [2]\n",
    "print(test)"
   ]
  },
  {
   "cell_type": "code",
   "execution_count": 5,
   "metadata": {},
   "outputs": [
    {
     "name": "stdout",
     "output_type": "stream",
     "text": [
      "[{'Karen': 3}, {'Park': 5}, {'Mo': 1}, {'Yolo': 7}]\n"
     ]
    }
   ],
   "source": [
    "a = [{\"Karen\": 3}, {\"Park\": 5}]\n",
    "b = [{\"Mo\": 1}, {\"Yolo\": 7}]\n",
    "c = a+b\n",
    "print(c)"
   ]
  },
  {
   "cell_type": "code",
   "execution_count": 1,
   "metadata": {},
   "outputs": [
    {
     "name": "stdout",
     "output_type": "stream",
     "text": [
      "15\n"
     ]
    }
   ],
   "source": [
    "print(5*3)"
   ]
  },
  {
   "cell_type": "code",
   "execution_count": 2,
   "metadata": {},
   "outputs": [
    {
     "name": "stdout",
     "output_type": "stream",
     "text": [
      "1.6666666666666667\n"
     ]
    }
   ],
   "source": [
    "five = 5\n",
    "three = 3\n",
    "five /= three\n",
    "print(five)"
   ]
  },
  {
   "cell_type": "code",
   "execution_count": 3,
   "metadata": {},
   "outputs": [
    {
     "name": "stdout",
     "output_type": "stream",
     "text": [
      "I am boyout\n",
      "I am boy and out\n",
      "I am boyout\n"
     ]
    }
   ],
   "source": [
    "a = \"I am boyout\"\n",
    "print(a)\n",
    "b = a.replace(\"boyout\", \"boy and out\")\n",
    "print(b)\n",
    "print(a)"
   ]
  },
  {
   "cell_type": "code",
   "execution_count": 2,
   "metadata": {},
   "outputs": [
    {
     "name": "stdout",
     "output_type": "stream",
     "text": [
      "['animal']\n",
      "<class 'list'>\n"
     ]
    }
   ],
   "source": [
    "import difflib\n",
    "temp = [\"animal\", \"anamel\", \"caramel\"]\n",
    "misspelled = \"animel\"\n",
    "a = difflib.get_close_matches(misspelled, temp, n=1, cutoff = 0.7)\n",
    "print(a)\n",
    "print(type(a))"
   ]
  },
  {
   "cell_type": "code",
   "execution_count": 5,
   "metadata": {},
   "outputs": [
    {
     "name": "stdout",
     "output_type": "stream",
     "text": [
      "['http']\n"
     ]
    }
   ],
   "source": [
    "import re\n",
    "wordRe = re.compile(r\"http\")\n",
    "text = \"http://example.com and Http\"\n",
    "print(wordRe.findall(text))"
   ]
  },
  {
   "cell_type": "code",
   "execution_count": 18,
   "metadata": {},
   "outputs": [
    {
     "name": "stdout",
     "output_type": "stream",
     "text": [
      "True\n"
     ]
    }
   ],
   "source": [
    "word = \"Baby\"\n",
    "word2 = \"superman\"\n",
    "word3 = \"SUPERMAN\"\n",
    "print(word3[0].isupper())"
   ]
  },
  {
   "cell_type": "code",
   "execution_count": 22,
   "metadata": {},
   "outputs": [
    {
     "name": "stdout",
     "output_type": "stream",
     "text": [
      "0\n"
     ]
    }
   ],
   "source": [
    "a = []\n",
    "print(len(a))"
   ]
  },
  {
   "cell_type": "code",
   "execution_count": 10,
   "metadata": {},
   "outputs": [
    {
     "name": "stdout",
     "output_type": "stream",
     "text": [
      "['Yes', ',', 'that', \"'s\", 'right', '.', 'You', 'can', 'change', 'the', \"'teach\", \"'\", 'into', \"'cheat\", \"'\", '.']\n",
      "['Yes', \"that's\", 'right', 'You', 'can', 'change', 'the', 'teach', 'into', 'cheat']\n"
     ]
    }
   ],
   "source": [
    "from nltk.tokenize import sent_tokenize, word_tokenize\n",
    "import re\n",
    "wordRe = re.compile(r\"[a-zA-Z]+\\'[a-zA-Z]+|[a-zA-Z]+\")\n",
    "\n",
    "\n",
    "data = \"All work and no play makes jack dull boy. All work and no play makes jack a dull boy.\"\n",
    "data2 = \"Yes, that's right. You can change the 'teach' into 'cheat'.\"\n",
    "print(word_tokenize(data2))\n",
    "print(wordRe.findall(data2))\n",
    "\n"
   ]
  },
  {
   "cell_type": "code",
   "execution_count": 2,
   "metadata": {},
   "outputs": [
    {
     "name": "stdout",
     "output_type": "stream",
     "text": [
      "False\n",
      "set()\n",
      "[]\n",
      "<class 'list'>\n"
     ]
    }
   ],
   "source": [
    "import difflib\n",
    "import aspell\n",
    "import spellchecker\n",
    "spell = aspell.Speller(\"lang\", \"en\")\n",
    "spell2 = spellchecker.SpellChecker()\n",
    "\n",
    "misspelled = \"donut\"\n",
    "\n",
    "\n",
    "\n",
    "print(spell.check(misspelled))\n",
    "print(spell2.known([misspelled]))\n",
    "\n",
    "temp = [\"autobot\", \"Autobot\"]\n",
    "print(difflib.get_close_matches(misspelled, temp, n=1, cutoff = 0.6))\n",
    "print(type(difflib.get_close_matches(misspelled, temp, n=1, cutoff = 0.6)))\n"
   ]
  },
  {
   "cell_type": "code",
   "execution_count": null,
   "metadata": {},
   "outputs": [],
   "source": []
  },
  {
   "cell_type": "code",
   "execution_count": null,
   "metadata": {},
   "outputs": [],
   "source": []
  }
 ],
 "metadata": {
  "kernelspec": {
   "display_name": "Python 3",
   "language": "python",
   "name": "python3"
  },
  "language_info": {
   "codemirror_mode": {
    "name": "ipython",
    "version": 3
   },
   "file_extension": ".py",
   "mimetype": "text/x-python",
   "name": "python",
   "nbconvert_exporter": "python",
   "pygments_lexer": "ipython3",
   "version": "3.7.0"
  }
 },
 "nbformat": 4,
 "nbformat_minor": 2
}
